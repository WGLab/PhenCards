{
 "cells": [
  {
   "cell_type": "code",
   "execution_count": 1,
   "metadata": {},
   "outputs": [],
   "source": [
    "import csv\n",
    "import pandas as pd"
   ]
  },
  {
   "cell_type": "code",
   "execution_count": 2,
   "metadata": {},
   "outputs": [
    {
     "data": {
      "text/html": [
       "<div>\n",
       "<style scoped>\n",
       "    .dataframe tbody tr th:only-of-type {\n",
       "        vertical-align: middle;\n",
       "    }\n",
       "\n",
       "    .dataframe tbody tr th {\n",
       "        vertical-align: top;\n",
       "    }\n",
       "\n",
       "    .dataframe thead th {\n",
       "        text-align: right;\n",
       "    }\n",
       "</style>\n",
       "<table border=\"1\" class=\"dataframe\">\n",
       "  <thead>\n",
       "    <tr style=\"text-align: right;\">\n",
       "      <th></th>\n",
       "      <th>HPO-ID</th>\n",
       "      <th>DATABASE-NAME</th>\n",
       "      <th>EXTERNAL-ID</th>\n",
       "      <th>EXTERNAL-NAME</th>\n",
       "    </tr>\n",
       "  </thead>\n",
       "  <tbody>\n",
       "    <tr>\n",
       "      <td>0</td>\n",
       "      <td>HP:0000001</td>\n",
       "      <td>UMLS</td>\n",
       "      <td>C0444868</td>\n",
       "      <td>{'All', 'all', 'ALL'}</td>\n",
       "    </tr>\n",
       "    <tr>\n",
       "      <td>1</td>\n",
       "      <td>HP:0000002</td>\n",
       "      <td>UMLS</td>\n",
       "      <td>C4025901</td>\n",
       "      <td>{'Abnormality of body height'}</td>\n",
       "    </tr>\n",
       "    <tr>\n",
       "      <td>2</td>\n",
       "      <td>HP:0001507</td>\n",
       "      <td>UMLS</td>\n",
       "      <td>C0262361</td>\n",
       "      <td>{'Abnormal growth', 'abnormal growth', 'Growth...</td>\n",
       "    </tr>\n",
       "    <tr>\n",
       "      <td>3</td>\n",
       "      <td>HP:0000003</td>\n",
       "      <td>MSH</td>\n",
       "      <td>D021782</td>\n",
       "      <td>None</td>\n",
       "    </tr>\n",
       "    <tr>\n",
       "      <td>4</td>\n",
       "      <td>HP:0000003</td>\n",
       "      <td>SNOMEDCT_US</td>\n",
       "      <td>204962002</td>\n",
       "      <td>Multicystic kidney</td>\n",
       "    </tr>\n",
       "  </tbody>\n",
       "</table>\n",
       "</div>"
      ],
      "text/plain": [
       "       HPO-ID DATABASE-NAME EXTERNAL-ID  \\\n",
       "0  HP:0000001          UMLS    C0444868   \n",
       "1  HP:0000002          UMLS    C4025901   \n",
       "2  HP:0001507          UMLS    C0262361   \n",
       "3  HP:0000003           MSH     D021782   \n",
       "4  HP:0000003   SNOMEDCT_US   204962002   \n",
       "\n",
       "                                       EXTERNAL-NAME  \n",
       "0                              {'All', 'all', 'ALL'}  \n",
       "1                     {'Abnormality of body height'}  \n",
       "2  {'Abnormal growth', 'abnormal growth', 'Growth...  \n",
       "3                                               None  \n",
       "4                                 Multicystic kidney  "
      ]
     },
     "execution_count": 2,
     "metadata": {},
     "output_type": "execute_result"
    }
   ],
   "source": [
    "df_main = pd.read_csv('hpo_xref_data.txt', delimiter = \"\\t\")\n",
    "df_main.head()"
   ]
  },
  {
   "cell_type": "code",
   "execution_count": 5,
   "metadata": {},
   "outputs": [
    {
     "data": {
      "text/html": [
       "<div>\n",
       "<style scoped>\n",
       "    .dataframe tbody tr th:only-of-type {\n",
       "        vertical-align: middle;\n",
       "    }\n",
       "\n",
       "    .dataframe tbody tr th {\n",
       "        vertical-align: top;\n",
       "    }\n",
       "\n",
       "    .dataframe thead th {\n",
       "        text-align: right;\n",
       "    }\n",
       "</style>\n",
       "<table border=\"1\" class=\"dataframe\">\n",
       "  <thead>\n",
       "    <tr style=\"text-align: right;\">\n",
       "      <th></th>\n",
       "      <th>DescriptorUI</th>\n",
       "      <th>DescriptorName</th>\n",
       "    </tr>\n",
       "  </thead>\n",
       "  <tbody>\n",
       "    <tr>\n",
       "      <td>0</td>\n",
       "      <td>D000001</td>\n",
       "      <td>Calcimycin</td>\n",
       "    </tr>\n",
       "    <tr>\n",
       "      <td>1</td>\n",
       "      <td>D000900</td>\n",
       "      <td>Anti-Bacterial Agents</td>\n",
       "    </tr>\n",
       "    <tr>\n",
       "      <td>2</td>\n",
       "      <td>D061207</td>\n",
       "      <td>Calcium Ionophores</td>\n",
       "    </tr>\n",
       "    <tr>\n",
       "      <td>3</td>\n",
       "      <td>D000002</td>\n",
       "      <td>Temefos</td>\n",
       "    </tr>\n",
       "    <tr>\n",
       "      <td>4</td>\n",
       "      <td>D007306</td>\n",
       "      <td>Insecticides</td>\n",
       "    </tr>\n",
       "  </tbody>\n",
       "</table>\n",
       "</div>"
      ],
      "text/plain": [
       "  DescriptorUI         DescriptorName\n",
       "0      D000001             Calcimycin\n",
       "1      D000900  Anti-Bacterial Agents\n",
       "2      D061207     Calcium Ionophores\n",
       "3      D000002                Temefos\n",
       "4      D007306           Insecticides"
      ]
     },
     "execution_count": 5,
     "metadata": {},
     "output_type": "execute_result"
    }
   ],
   "source": [
    "df_MSH = pd.read_csv('MSH-DATA.txt', delimiter = \"\\t\")\n",
    "df_MSH.head()"
   ]
  },
  {
   "cell_type": "code",
   "execution_count": 6,
   "metadata": {},
   "outputs": [],
   "source": [
    "for idx in range(len(df_main['DATABASE-NAME'])):\n",
    "    if df_main.iloc[idx]['DATABASE-NAME'] == \"MSH\":\n",
    "        target = df_main.iloc[idx]['EXTERNAL-ID']\n",
    "        target = df_MSH[df_MSH['DescriptorUI'].isin([target])]['DescriptorName']\n",
    "        if len(target) > 0:\n",
    "            df_main.iloc[idx]['EXTERNAL-NAME'] = (target.iloc[0])"
   ]
  },
  {
   "cell_type": "code",
   "execution_count": 7,
   "metadata": {},
   "outputs": [],
   "source": [
    "df_main.to_csv(r'hpo_xref_data.txt', index=None, sep='\\t')"
   ]
  },
  {
   "cell_type": "code",
   "execution_count": null,
   "metadata": {},
   "outputs": [],
   "source": []
  }
 ],
 "metadata": {
  "kernelspec": {
   "display_name": "Python 3",
   "language": "python",
   "name": "python3"
  },
  "language_info": {
   "codemirror_mode": {
    "name": "ipython",
    "version": 3
   },
   "file_extension": ".py",
   "mimetype": "text/x-python",
   "name": "python",
   "nbconvert_exporter": "python",
   "pygments_lexer": "ipython3",
   "version": "3.7.4"
  }
 },
 "nbformat": 4,
 "nbformat_minor": 2
}
