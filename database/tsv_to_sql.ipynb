{
 "cells": [
  {
   "cell_type": "code",
   "execution_count": 1,
   "metadata": {},
   "outputs": [],
   "source": [
    "import pandas as pd\n",
    "import sqlite3"
   ]
  },
  {
   "cell_type": "code",
   "execution_count": 3,
   "metadata": {},
   "outputs": [],
   "source": [
    "df = pd.read_csv('phenotype_database.csv', sep='\\t', encoding='utf-8')\n",
    "df_ex = pd.read_csv('hpo_xref_data.txt', sep='\\t', encoding='utf-8')\n",
    "df_ICD10 = pd.read_csv('./external_database/ICD-10_data/ICD10-DATA.txt', sep='\\t', encoding='utf-8')\n",
    "conn = sqlite3.connect(\"phenotype.db\")\n",
    "df.to_sql('PHENBASE', con=conn, if_exists='append', index=False)\n",
    "df_ex.to_sql('EXTERNALBASE', con=conn, if_exists='append', index=False)\n",
    "df_ICD10.to_sql('ICD10BASE', con=conn, if_exists='append', index=False)"
   ]
  },
  {
   "cell_type": "code",
   "execution_count": 4,
   "metadata": {
    "scrolled": true
   },
   "outputs": [
    {
     "name": "stdout",
     "output_type": "stream",
     "text": [
      "Opened database successfully\n",
      "(0, '10q22.3q23.3 microdeletion syndrome', 'ORPHA:276413', 'HP:0100783', 'Breast aplasia')\n",
      "(1, '10q22.3q23.3 microdeletion syndrome', 'ORPHA:276413', 'HP:0200008', 'Intestinal polyposis')\n",
      "('HP:0000001', 'UMLS', 'C0444868', \"{'All', 'all', 'ALL'}\")\n",
      "('HP:0000002', 'UMLS', 'C4025901', \"{'Abnormality of body height'}\")\n",
      "(1, 'A00', 0, 'Cholera', 'Cholera')\n",
      "(2, 'A000', 1, 'Cholera due to Vibrio cholerae 01, biovar cholerae', 'Cholera due to Vibrio cholerae 01, biovar cholerae')\n",
      "Operation done successfully\n"
     ]
    }
   ],
   "source": [
    "conn = sqlite3.connect(\"phenotype.db\")\n",
    "cursor = conn.cursor()\n",
    "print(\"Opened database successfully\")\n",
    "c = conn.cursor()\n",
    "phen_name = '10q22.3q23.3 microdeletion syndrome'\n",
    "cursor = c.execute(\"SELECT * FROM PHENBASE WHERE DiseaseName='\" + phen_name + \"'\")\n",
    "count = 0\n",
    "for row in cursor:\n",
    "    count += 1\n",
    "    if count > 2:\n",
    "        break\n",
    "    print(row)\n",
    "cursor = c.execute(\"SELECT * FROM EXTERNALBASE\")\n",
    "count = 0\n",
    "for row in cursor:\n",
    "    count += 1\n",
    "    if count > 2:\n",
    "        break\n",
    "    print(row)\n",
    "cursor = c.execute(\"SELECT * FROM ICD10BASE\")\n",
    "count = 0\n",
    "for row in cursor:\n",
    "    count += 1\n",
    "    if count > 2:\n",
    "        break\n",
    "    print(row)\n",
    "print(\"Operation done successfully\")"
   ]
  },
  {
   "cell_type": "code",
   "execution_count": null,
   "metadata": {},
   "outputs": [],
   "source": []
  }
 ],
 "metadata": {
  "kernelspec": {
   "display_name": "Python 3",
   "language": "python",
   "name": "python3"
  },
  "language_info": {
   "codemirror_mode": {
    "name": "ipython",
    "version": 3
   },
   "file_extension": ".py",
   "mimetype": "text/x-python",
   "name": "python",
   "nbconvert_exporter": "python",
   "pygments_lexer": "ipython3",
   "version": "3.7.4"
  }
 },
 "nbformat": 4,
 "nbformat_minor": 2
}
