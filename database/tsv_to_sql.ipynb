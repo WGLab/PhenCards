{
 "cells": [
  {
   "cell_type": "code",
   "execution_count": 1,
   "metadata": {},
   "outputs": [],
   "source": [
    "import pandas as pd\n",
    "import sqlite3\n",
    "df = pd.read_csv('phenotype_database.csv', sep='\\t', encoding='utf-8')\n",
    "conn = sqlite3.connect(\"phenotype.db\")\n",
    "df.to_sql('PHENBASE', con=conn, if_exists='append', index=False)"
   ]
  },
  {
   "cell_type": "code",
   "execution_count": 5,
   "metadata": {},
   "outputs": [
    {
     "name": "stdout",
     "output_type": "stream",
     "text": [
      "Opened database successfully\n",
      "<sqlite3.Cursor object at 0x000002262AFE4260>\n",
      "10q22.3q23.3 microdeletion syndrome\n",
      "10q22.3q23.3 microduplication syndrome\n",
      "11p15.4 microduplication syndrome\n",
      "11q22.2q22.3 microdeletion syndrome\n",
      "12q14 microdeletion syndrome\n",
      "14q11.2 microdeletion syndrome\n",
      "14q12 microdeletion syndrome\n",
      "14q22q23 microdeletion syndrome\n",
      "15q overgrowth syndrome\n",
      "15q11q13 microduplication syndrome\n",
      "15q13.3 microdeletion syndrome\n",
      "15q14 microdeletion syndrome\n",
      "15q24 microdeletion syndrome\n",
      "15q24 recurrent microdeletion syndrome\n",
      "15q26 overgrowth syndrome\n",
      "16p11.2-p12.2 microdeletion syndrome\n",
      "16p11.2p12.2 microdeletion syndrome\n",
      "16p11.2p12.2 microduplication syndrome\n",
      "16p13.11 microdeletion syndrome\n",
      "16p13.11 microduplication syndrome\n",
      "Operation done successfully\n"
     ]
    }
   ],
   "source": [
    "con = sqlite3.connect('phenotypeBase.db') \n",
    "cursor = con.cursor() \n",
    "print(\"Opened database successfully\")\n",
    "c = conn.cursor()\n",
    "print(c)\n",
    "cursor = c.execute(\"SELECT DISTINCT DiseaseName FROM PHENBASE\")\n",
    "count = 0\n",
    "for row in cursor:\n",
    "    count += 1\n",
    "    if count > 20:\n",
    "        break\n",
    "    print(row[0])\n",
    "print(\"Operation done successfully\")"
   ]
  },
  {
   "cell_type": "code",
   "execution_count": null,
   "metadata": {},
   "outputs": [],
   "source": []
  }
 ],
 "metadata": {
  "kernelspec": {
   "display_name": "Python 3",
   "language": "python",
   "name": "python3"
  },
  "language_info": {
   "codemirror_mode": {
    "name": "ipython",
    "version": 3
   },
   "file_extension": ".py",
   "mimetype": "text/x-python",
   "name": "python",
   "nbconvert_exporter": "python",
   "pygments_lexer": "ipython3",
   "version": "3.7.4"
  }
 },
 "nbformat": 4,
 "nbformat_minor": 2
}
