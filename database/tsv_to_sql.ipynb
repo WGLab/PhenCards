{
 "cells": [
  {
   "cell_type": "code",
   "execution_count": 1,
   "metadata": {},
   "outputs": [],
   "source": [
    "import pandas as pd\n",
    "import sqlite3"
   ]
  },
  {
   "cell_type": "code",
   "execution_count": 2,
   "metadata": {},
   "outputs": [],
   "source": [
    "df = pd.read_csv('phenotype_database.csv', sep='\\t', encoding='utf-8')\n",
    "df_ex = pd.read_csv('hpo_xref_data.txt', sep='\\t', encoding='utf-8')\n",
    "conn = sqlite3.connect(\"phenotype.db\")\n",
    "df.to_sql('PHENBASE', con=conn, if_exists='append', index=False)\n",
    "df_ex.to_sql('EXTERNALBASE', con=conn, if_exists='append', index=False)"
   ]
  },
  {
   "cell_type": "code",
   "execution_count": 3,
   "metadata": {
    "scrolled": true
   },
   "outputs": [
    {
     "name": "stdout",
     "output_type": "stream",
     "text": [
      "Opened database successfully\n",
      "(0, '10q22.3q23.3 microdeletion syndrome', 'ORPHA:276413', 'HP:0100783', 'Breast aplasia')\n",
      "(1, '10q22.3q23.3 microdeletion syndrome', 'ORPHA:276413', 'HP:0200008', 'Intestinal polyposis')\n",
      "(2, '10q22.3q23.3 microdeletion syndrome', 'ORPHA:276413', 'HP:0000252', 'Microcephaly')\n",
      "(3, '10q22.3q23.3 microdeletion syndrome', 'ORPHA:276413', 'HP:0000256', 'Macrocephaly')\n",
      "(4, '10q22.3q23.3 microdeletion syndrome', 'ORPHA:276413', 'HP:0000286', 'Epicanthus')\n",
      "(5, '10q22.3q23.3 microdeletion syndrome', 'ORPHA:276413', 'HP:0000308', 'Microretrognathia')\n",
      "(6, '10q22.3q23.3 microdeletion syndrome', 'ORPHA:276413', 'HP:0000316', 'Hypertelorism')\n",
      "(7, '10q22.3q23.3 microdeletion syndrome', 'ORPHA:276413', 'HP:0000369', 'Low-set ears')\n",
      "(8, '10q22.3q23.3 microdeletion syndrome', 'ORPHA:276413', 'HP:0000463', 'Anteverted nares')\n",
      "(9, '10q22.3q23.3 microdeletion syndrome', 'ORPHA:276413', 'HP:0000494', 'Downslanted palpebral fissures')\n",
      "(10, '10q22.3q23.3 microdeletion syndrome', 'ORPHA:276413', 'HP:0000582', 'Upslanted palpebral fissure')\n",
      "(11, '10q22.3q23.3 microdeletion syndrome', 'ORPHA:276413', 'HP:0000601', 'Hypotelorism')\n",
      "(12, '10q22.3q23.3 microdeletion syndrome', 'ORPHA:276413', 'HP:0001166', 'Arachnodactyly')\n",
      "(13, '10q22.3q23.3 microdeletion syndrome', 'ORPHA:276413', 'HP:0001249', 'Intellectual disability')\n",
      "(14, '10q22.3q23.3 microdeletion syndrome', 'ORPHA:276413', 'HP:0000717', 'Autism')\n",
      "(15, '10q22.3q23.3 microdeletion syndrome', 'ORPHA:276413', 'HP:0001263', 'Global developmental delay')\n",
      "(16, '10q22.3q23.3 microdeletion syndrome', 'ORPHA:276413', 'HP:0007018', 'Attention deficit hyperactivity disorder')\n",
      "(17, '10q22.3q23.3 microdeletion syndrome', 'ORPHA:276413', 'HP:0006695', 'Atrioventricular canal defect')\n",
      "(18, '10q22.3q23.3 microdeletion syndrome', 'ORPHA:276413', 'HP:0005692', 'Joint hyperflexibility')\n",
      "(19, '10q22.3q23.3 microdeletion syndrome', 'ORPHA:276413', 'HP:0001250', 'Seizures')\n",
      "('HP:0000001', 'UMLS', 'C0444868', \"{'All', 'all', 'ALL'}\")\n",
      "('HP:0000002', 'UMLS', 'C4025901', \"{'Abnormality of body height'}\")\n",
      "('HP:0001507', 'UMLS', 'C0262361', \"{'Abnormal growth', 'abnormal growth', 'Growth abnormality', 'abnormal growths', 'Growth issue', 'ABNORMAL GROWTH'}\")\n",
      "('HP:0000003', 'MSH', 'D021782', 'Multicystic Dysplastic Kidney')\n",
      "('HP:0000003', 'SNOMEDCT_US', '204962002', 'Multicystic kidney')\n",
      "('HP:0000003', 'SNOMEDCT_US', '82525005', 'Congenital cystic kidney disease')\n",
      "('HP:0000003', 'UMLS', 'C3714581', \"{'multicystic kidney', 'Multicystic dysplastic kidneys', 'Kidney Dysplasias, Multicystic', 'Multicystic dysplastic kidney', 'Multicystic renal dysplasia', 'Dysplasias, Multicystic Renal', 'Kidney Dysplasia, Multicystic', 'Multicystic Kidney Dysplasia', 'Dysplasia, Multicystic Kidney', 'Dysplasia, Multicystic Renal', 'Multicystic kidneys', 'multicystic kidneys', 'Renal Dysplasia, Multicystic', 'Multicystic Dysplastic Kidney', 'multicystic renal dysplasia', 'Multicystic Kidney Dysplasias', 'Renal Dysplasias, Multicystic', 'multicystic dysplastic kidneys', 'Multicystic Renal Dysplasias', 'Multicystic Kidneys', 'Multicystic kidney', 'Multicystic Kidney', 'multicystic kidney dysplasia', 'Multicystic Renal Dysplasia', 'Dysplasias, Multicystic Kidney', 'Multicystic kidney dysplasia', 'multicystic dysplastic kidney', 'Multicystic Dysplastic Kidneys'}\")\n",
      "('HP:0000107', 'MSH', 'D052177', 'Kidney Diseases, Cystic')\n",
      "('HP:0000107', 'UMLS', 'C0022679', \"{'Kidneys, Cystic', 'Cystic Kidney', 'cystic kidney', 'Kidney, Cystic', 'cystic kidneys', 'cystic kidney disease', 'Cystic kidney disease', 'cystic diseases kidney', 'cystic diseases renal', 'Cystic Kidneys', 'kidney cystic', 'Cystic kidneys', 'renal cystic disease', 'Cystic kidney'}\")\n",
      "('HP:0000107', 'UMLS', 'C3887499', \"{'kidney cyst', 'RENAL CYST', 'renal cyst', 'Kidney Cyst', 'Renal cyst', 'Kidney Cysts', 'Renal cysts', 'Kidney cyst', 'KIDNEY CYST', 'Cyst of the Kidney', 'Cyst of Kidney', 'cyst of kidney', 'Renal Cyst'}\")\n",
      "('HP:0000005', 'UMLS', 'C1708511', \"{'Inheritance Mode', 'Mode of Inheritance', 'Inheritance', 'Mode of inheritance', 'mode of inheritance'}\")\n",
      "('HP:0000006', 'SNOMEDCT_US', '263681008', 'Autosomal dominant inheritance')\n",
      "('HP:0000006', 'UMLS', 'C0443147', \"{'autosomal dominant inheritance', 'Autosomal dominant inheritance', 'autosomal dominant', 'Autosomal dominant form', 'Autosomal dominant type', 'Autosomal dominant', 'Autosomal Dominant Inheritance'}\")\n",
      "('HP:0000007', 'SNOMEDCT_US', '258211005', 'Autosomal recessive inheritance')\n",
      "('HP:0000007', 'UMLS', 'C0441748', \"{'autosomal recessives', 'Autosomal Recessive Inheritance', 'Autosomal recessive.', 'recessive autosomal inheritance', 'autosomal inheritance recessive', 'Autosomal recessive', 'autosomal recessive', 'Autosomal recessive inheritance', 'Autosomal recessive form', 'autosomal recessive inheritance'}\")\n",
      "('HP:0000007', 'UMLS', 'C4020899', \"{'Autosomal recessive predisposition'}\")\n",
      "('HP:0000008', 'UMLS', 'C4025900', \"{'Abnormality of female internal genitalia'}\")\n",
      "('HP:0000812', 'UMLS', 'C4025824', \"{'Abnormal internal genitalia'}\")\n",
      "('HP:0010460', 'UMLS', 'C4023820', \"{'Abnormality of the female genitalia'}\")\n",
      "('HP:0000009', 'UMLS', 'C3806583', \"{'Functional abnormality of the bladder', 'Poor bladder function'}\")\n",
      "Operation done successfully\n"
     ]
    }
   ],
   "source": [
    "conn = sqlite3.connect(\"phenotype.db\")\n",
    "cursor = conn.cursor()\n",
    "print(\"Opened database successfully\")\n",
    "c = conn.cursor()\n",
    "cursor = c.execute(\"SELECT * FROM PHENBASE\")\n",
    "count = 0\n",
    "for row in cursor:\n",
    "    count += 1\n",
    "    if count > 20:\n",
    "        break\n",
    "    print(row)\n",
    "cursor = c.execute(\"SELECT * FROM EXTERNALBASE\")\n",
    "count = 0\n",
    "for row in cursor:\n",
    "    count += 1\n",
    "    if count > 20:\n",
    "        break\n",
    "    print(row)\n",
    "print(\"Operation done successfully\")"
   ]
  },
  {
   "cell_type": "code",
   "execution_count": null,
   "metadata": {},
   "outputs": [],
   "source": []
  }
 ],
 "metadata": {
  "kernelspec": {
   "display_name": "Python 3",
   "language": "python",
   "name": "python3"
  },
  "language_info": {
   "codemirror_mode": {
    "name": "ipython",
    "version": 3
   },
   "file_extension": ".py",
   "mimetype": "text/x-python",
   "name": "python",
   "nbconvert_exporter": "python",
   "pygments_lexer": "ipython3",
   "version": "3.7.4"
  }
 },
 "nbformat": 4,
 "nbformat_minor": 2
}
