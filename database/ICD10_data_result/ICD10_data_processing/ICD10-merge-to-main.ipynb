{
 "cells": [
  {
   "cell_type": "code",
   "execution_count": 1,
   "metadata": {},
   "outputs": [],
   "source": [
    "import pandas as pd"
   ]
  },
  {
   "cell_type": "code",
   "execution_count": 2,
   "metadata": {},
   "outputs": [],
   "source": [
    "df_main = pd.read_csv('hpo_xref_data', delimiter = \"\\t\")"
   ]
  },
  {
   "cell_type": "code",
   "execution_count": 3,
   "metadata": {},
   "outputs": [
    {
     "data": {
      "text/html": [
       "<div>\n",
       "<style scoped>\n",
       "    .dataframe tbody tr th:only-of-type {\n",
       "        vertical-align: middle;\n",
       "    }\n",
       "\n",
       "    .dataframe tbody tr th {\n",
       "        vertical-align: top;\n",
       "    }\n",
       "\n",
       "    .dataframe thead th {\n",
       "        text-align: right;\n",
       "    }\n",
       "</style>\n",
       "<table border=\"1\" class=\"dataframe\">\n",
       "  <thead>\n",
       "    <tr style=\"text-align: right;\">\n",
       "      <th></th>\n",
       "      <th>HPO-ID</th>\n",
       "      <th>DATABASE-NAME</th>\n",
       "      <th>EXTERNAL-ID</th>\n",
       "      <th>EXTERNAL-NAME</th>\n",
       "    </tr>\n",
       "  </thead>\n",
       "  <tbody>\n",
       "    <tr>\n",
       "      <td>0</td>\n",
       "      <td>HP:0000001</td>\n",
       "      <td>UMLS</td>\n",
       "      <td>C0444868</td>\n",
       "      <td>None</td>\n",
       "    </tr>\n",
       "    <tr>\n",
       "      <td>1</td>\n",
       "      <td>HP:0000002</td>\n",
       "      <td>UMLS</td>\n",
       "      <td>C4025901</td>\n",
       "      <td>None</td>\n",
       "    </tr>\n",
       "    <tr>\n",
       "      <td>2</td>\n",
       "      <td>HP:0001507</td>\n",
       "      <td>UMLS</td>\n",
       "      <td>C0262361</td>\n",
       "      <td>None</td>\n",
       "    </tr>\n",
       "    <tr>\n",
       "      <td>3</td>\n",
       "      <td>HP:0000003</td>\n",
       "      <td>MSH</td>\n",
       "      <td>D021782</td>\n",
       "      <td>None</td>\n",
       "    </tr>\n",
       "    <tr>\n",
       "      <td>4</td>\n",
       "      <td>HP:0000003</td>\n",
       "      <td>SNOMEDCT_US</td>\n",
       "      <td>204962002</td>\n",
       "      <td>None</td>\n",
       "    </tr>\n",
       "  </tbody>\n",
       "</table>\n",
       "</div>"
      ],
      "text/plain": [
       "       HPO-ID DATABASE-NAME EXTERNAL-ID EXTERNAL-NAME\n",
       "0  HP:0000001          UMLS    C0444868          None\n",
       "1  HP:0000002          UMLS    C4025901          None\n",
       "2  HP:0001507          UMLS    C0262361          None\n",
       "3  HP:0000003           MSH     D021782          None\n",
       "4  HP:0000003   SNOMEDCT_US   204962002          None"
      ]
     },
     "execution_count": 3,
     "metadata": {},
     "output_type": "execute_result"
    }
   ],
   "source": [
    "df_main.head()"
   ]
  },
  {
   "cell_type": "code",
   "execution_count": 4,
   "metadata": {},
   "outputs": [],
   "source": [
    "df_ICD10 = pd.read_csv('ICD10-DATA.txt', delimiter = \"\\t\")"
   ]
  },
  {
   "cell_type": "code",
   "execution_count": 5,
   "metadata": {},
   "outputs": [
    {
     "data": {
      "text/html": [
       "<div>\n",
       "<style scoped>\n",
       "    .dataframe tbody tr th:only-of-type {\n",
       "        vertical-align: middle;\n",
       "    }\n",
       "\n",
       "    .dataframe tbody tr th {\n",
       "        vertical-align: top;\n",
       "    }\n",
       "\n",
       "    .dataframe thead th {\n",
       "        text-align: right;\n",
       "    }\n",
       "</style>\n",
       "<table border=\"1\" class=\"dataframe\">\n",
       "  <thead>\n",
       "    <tr style=\"text-align: right;\">\n",
       "      <th></th>\n",
       "      <th>INDEX</th>\n",
       "      <th>ICD10-ID</th>\n",
       "      <th>PARENT-INDEX</th>\n",
       "      <th>ABBREV</th>\n",
       "      <th>NAME</th>\n",
       "    </tr>\n",
       "  </thead>\n",
       "  <tbody>\n",
       "    <tr>\n",
       "      <td>0</td>\n",
       "      <td>1</td>\n",
       "      <td>A00</td>\n",
       "      <td>0</td>\n",
       "      <td>Cholera</td>\n",
       "      <td>Cholera</td>\n",
       "    </tr>\n",
       "    <tr>\n",
       "      <td>1</td>\n",
       "      <td>2</td>\n",
       "      <td>A000</td>\n",
       "      <td>1</td>\n",
       "      <td>Cholera due to Vibrio cholerae 01, biovar chol...</td>\n",
       "      <td>Cholera due to Vibrio cholerae 01, biovar chol...</td>\n",
       "    </tr>\n",
       "    <tr>\n",
       "      <td>2</td>\n",
       "      <td>3</td>\n",
       "      <td>A001</td>\n",
       "      <td>1</td>\n",
       "      <td>Cholera due to Vibrio cholerae 01, biovar eltor</td>\n",
       "      <td>Cholera due to Vibrio cholerae 01, biovar eltor</td>\n",
       "    </tr>\n",
       "    <tr>\n",
       "      <td>3</td>\n",
       "      <td>4</td>\n",
       "      <td>A009</td>\n",
       "      <td>1</td>\n",
       "      <td>Cholera, unspecified</td>\n",
       "      <td>Cholera, unspecified</td>\n",
       "    </tr>\n",
       "    <tr>\n",
       "      <td>4</td>\n",
       "      <td>5</td>\n",
       "      <td>A01</td>\n",
       "      <td>0</td>\n",
       "      <td>Typhoid and paratyphoid fevers</td>\n",
       "      <td>Typhoid and paratyphoid fevers</td>\n",
       "    </tr>\n",
       "  </tbody>\n",
       "</table>\n",
       "</div>"
      ],
      "text/plain": [
       "   INDEX ICD10-ID  PARENT-INDEX  \\\n",
       "0      1      A00             0   \n",
       "1      2     A000             1   \n",
       "2      3     A001             1   \n",
       "3      4     A009             1   \n",
       "4      5      A01             0   \n",
       "\n",
       "                                              ABBREV  \\\n",
       "0                                            Cholera   \n",
       "1  Cholera due to Vibrio cholerae 01, biovar chol...   \n",
       "2    Cholera due to Vibrio cholerae 01, biovar eltor   \n",
       "3                               Cholera, unspecified   \n",
       "4                     Typhoid and paratyphoid fevers   \n",
       "\n",
       "                                                NAME  \n",
       "0                                            Cholera  \n",
       "1  Cholera due to Vibrio cholerae 01, biovar chol...  \n",
       "2    Cholera due to Vibrio cholerae 01, biovar eltor  \n",
       "3                               Cholera, unspecified  \n",
       "4                     Typhoid and paratyphoid fevers  "
      ]
     },
     "execution_count": 5,
     "metadata": {},
     "output_type": "execute_result"
    }
   ],
   "source": [
    "df_ICD10.head()"
   ]
  },
  {
   "cell_type": "code",
   "execution_count": 22,
   "metadata": {},
   "outputs": [],
   "source": [
    "for idx in range(len(df_main['DATABASE-NAME'])):\n",
    "    if df_main.iloc[idx]['DATABASE-NAME'] == \"ICD-10\":\n",
    "        target = df_main.iloc[idx]['EXTERNAL-ID']\n",
    "        target_inICD10 = ''\n",
    "        for ch in target:\n",
    "            if ch == '.':\n",
    "                continue\n",
    "            target_inICD10 = target_inICD10 + ch\n",
    "        target = df_ICD10[df_ICD10['ICD10-ID'].isin([target_inICD10])]['NAME']\n",
    "        if len(target) > 0:\n",
    "            df_main.iloc[idx]['EXTERNAL-NAME'] = (target.iloc[0])"
   ]
  },
  {
   "cell_type": "code",
   "execution_count": 24,
   "metadata": {},
   "outputs": [],
   "source": [
    "df_main.to_csv(r'hpo_xref_data.txt', header=None, index=None, sep='\\t')"
   ]
  },
  {
   "cell_type": "code",
   "execution_count": null,
   "metadata": {},
   "outputs": [],
   "source": []
  }
 ],
 "metadata": {
  "kernelspec": {
   "display_name": "Python 3",
   "language": "python",
   "name": "python3"
  },
  "language_info": {
   "codemirror_mode": {
    "name": "ipython",
    "version": 3
   },
   "file_extension": ".py",
   "mimetype": "text/x-python",
   "name": "python",
   "nbconvert_exporter": "python",
   "pygments_lexer": "ipython3",
   "version": "3.7.4"
  }
 },
 "nbformat": 4,
 "nbformat_minor": 2
}
