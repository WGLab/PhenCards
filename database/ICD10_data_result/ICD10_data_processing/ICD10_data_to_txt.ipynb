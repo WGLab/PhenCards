{
 "cells": [
  {
   "cell_type": "code",
   "execution_count": 1,
   "metadata": {},
   "outputs": [],
   "source": [
    "import csv"
   ]
  },
  {
   "cell_type": "code",
   "execution_count": 11,
   "metadata": {},
   "outputs": [],
   "source": [
    "with open('ICD10-DATA.txt', 'w+') as txtfile:\n",
    "    spamwriter = csv.writer(csvfile)\n",
    "    with open('icd10cm_order_2020.txt', 'r') as filein:\n",
    "        txtfile.write('INDEX'+'\\t'+'ICD10-ID'+'\\t'+'PARENT-INDEX'+'\\t'+'ABBREV'+'\\t'+'NAME'+'\\n')\n",
    "        for line in filein:\n",
    "#             if line[16:76].strip() != line[77:].strip():\n",
    "#                 print(line[16:76].strip(), line[77:].strip())\n",
    "            txtfile.write(line[:5]+'\\t'+line[6:13].strip()+'\\t'+line[14:15].strip()+'\\t'\\\n",
    "                          +line[16:76].strip()+'\\t'+line[77:].strip()+'\\n')           \n",
    "            "
   ]
  },
  {
   "cell_type": "code",
   "execution_count": null,
   "metadata": {},
   "outputs": [],
   "source": []
  }
 ],
 "metadata": {
  "kernelspec": {
   "display_name": "Python 3",
   "language": "python",
   "name": "python3"
  },
  "language_info": {
   "codemirror_mode": {
    "name": "ipython",
    "version": 3
   },
   "file_extension": ".py",
   "mimetype": "text/x-python",
   "name": "python",
   "nbconvert_exporter": "python",
   "pygments_lexer": "ipython3",
   "version": "3.7.4"
  }
 },
 "nbformat": 4,
 "nbformat_minor": 2
}
