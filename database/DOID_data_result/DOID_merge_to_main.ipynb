{
 "cells": [
  {
   "cell_type": "code",
   "execution_count": 1,
   "metadata": {},
   "outputs": [],
   "source": [
    "import csv\n",
    "import pandas as pd"
   ]
  },
  {
   "cell_type": "code",
   "execution_count": 2,
   "metadata": {},
   "outputs": [
    {
     "data": {
      "text/html": [
       "<div>\n",
       "<style scoped>\n",
       "    .dataframe tbody tr th:only-of-type {\n",
       "        vertical-align: middle;\n",
       "    }\n",
       "\n",
       "    .dataframe tbody tr th {\n",
       "        vertical-align: top;\n",
       "    }\n",
       "\n",
       "    .dataframe thead th {\n",
       "        text-align: right;\n",
       "    }\n",
       "</style>\n",
       "<table border=\"1\" class=\"dataframe\">\n",
       "  <thead>\n",
       "    <tr style=\"text-align: right;\">\n",
       "      <th></th>\n",
       "      <th>HPO-ID</th>\n",
       "      <th>DATABASE-NAME</th>\n",
       "      <th>EXTERNAL-ID</th>\n",
       "      <th>EXTERNAL-NAME</th>\n",
       "    </tr>\n",
       "  </thead>\n",
       "  <tbody>\n",
       "    <tr>\n",
       "      <td>0</td>\n",
       "      <td>HP:0000001</td>\n",
       "      <td>UMLS</td>\n",
       "      <td>C0444868</td>\n",
       "      <td>{'All', 'all', 'ALL'}</td>\n",
       "    </tr>\n",
       "    <tr>\n",
       "      <td>1</td>\n",
       "      <td>HP:0000002</td>\n",
       "      <td>UMLS</td>\n",
       "      <td>C4025901</td>\n",
       "      <td>{'Abnormality of body height'}</td>\n",
       "    </tr>\n",
       "    <tr>\n",
       "      <td>2</td>\n",
       "      <td>HP:0001507</td>\n",
       "      <td>UMLS</td>\n",
       "      <td>C0262361</td>\n",
       "      <td>{'Abnormal growth', 'abnormal growth', 'Growth...</td>\n",
       "    </tr>\n",
       "    <tr>\n",
       "      <td>3</td>\n",
       "      <td>HP:0000003</td>\n",
       "      <td>MSH</td>\n",
       "      <td>D021782</td>\n",
       "      <td>Multicystic Dysplastic Kidney</td>\n",
       "    </tr>\n",
       "    <tr>\n",
       "      <td>4</td>\n",
       "      <td>HP:0000003</td>\n",
       "      <td>SNOMEDCT_US</td>\n",
       "      <td>204962002</td>\n",
       "      <td>Multicystic kidney</td>\n",
       "    </tr>\n",
       "  </tbody>\n",
       "</table>\n",
       "</div>"
      ],
      "text/plain": [
       "       HPO-ID DATABASE-NAME EXTERNAL-ID  \\\n",
       "0  HP:0000001          UMLS    C0444868   \n",
       "1  HP:0000002          UMLS    C4025901   \n",
       "2  HP:0001507          UMLS    C0262361   \n",
       "3  HP:0000003           MSH     D021782   \n",
       "4  HP:0000003   SNOMEDCT_US   204962002   \n",
       "\n",
       "                                       EXTERNAL-NAME  \n",
       "0                              {'All', 'all', 'ALL'}  \n",
       "1                     {'Abnormality of body height'}  \n",
       "2  {'Abnormal growth', 'abnormal growth', 'Growth...  \n",
       "3                      Multicystic Dysplastic Kidney  \n",
       "4                                 Multicystic kidney  "
      ]
     },
     "execution_count": 2,
     "metadata": {},
     "output_type": "execute_result"
    }
   ],
   "source": [
    "df_main = pd.read_csv('./hpo_xref_data.txt', delimiter = \"\\t\")\n",
    "df_main.head()"
   ]
  },
  {
   "cell_type": "code",
   "execution_count": 4,
   "metadata": {},
   "outputs": [
    {
     "data": {
      "text/html": [
       "<div>\n",
       "<style scoped>\n",
       "    .dataframe tbody tr th:only-of-type {\n",
       "        vertical-align: middle;\n",
       "    }\n",
       "\n",
       "    .dataframe tbody tr th {\n",
       "        vertical-align: top;\n",
       "    }\n",
       "\n",
       "    .dataframe thead th {\n",
       "        text-align: right;\n",
       "    }\n",
       "</style>\n",
       "<table border=\"1\" class=\"dataframe\">\n",
       "  <thead>\n",
       "    <tr style=\"text-align: right;\">\n",
       "      <th></th>\n",
       "      <th>DOID-ID</th>\n",
       "      <th>NAME</th>\n",
       "    </tr>\n",
       "  </thead>\n",
       "  <tbody>\n",
       "    <tr>\n",
       "      <td>0</td>\n",
       "      <td>60478</td>\n",
       "      <td>Zika fever</td>\n",
       "    </tr>\n",
       "    <tr>\n",
       "      <td>1</td>\n",
       "      <td>60479</td>\n",
       "      <td>Shwachman-Diamond syndrome</td>\n",
       "    </tr>\n",
       "    <tr>\n",
       "      <td>2</td>\n",
       "      <td>60480</td>\n",
       "      <td>left ventricular noncompaction</td>\n",
       "    </tr>\n",
       "    <tr>\n",
       "      <td>3</td>\n",
       "      <td>60481</td>\n",
       "      <td>Goldberg-Shprintzen syndrome</td>\n",
       "    </tr>\n",
       "    <tr>\n",
       "      <td>4</td>\n",
       "      <td>60482</td>\n",
       "      <td>oculoauricular syndrome</td>\n",
       "    </tr>\n",
       "  </tbody>\n",
       "</table>\n",
       "</div>"
      ],
      "text/plain": [
       "   DOID-ID                            NAME\n",
       "0    60478                      Zika fever\n",
       "1    60479      Shwachman-Diamond syndrome\n",
       "2    60480  left ventricular noncompaction\n",
       "3    60481    Goldberg-Shprintzen syndrome\n",
       "4    60482         oculoauricular syndrome"
      ]
     },
     "execution_count": 4,
     "metadata": {},
     "output_type": "execute_result"
    }
   ],
   "source": [
    "df_DOID = pd.read_csv('DOID-DATA.txt', delimiter = \"\\t\")\n",
    "df_DOID.head()"
   ]
  },
  {
   "cell_type": "code",
   "execution_count": 7,
   "metadata": {},
   "outputs": [],
   "source": [
    "for idx in range(len(df_main['DATABASE-NAME'])):\n",
    "    if df_main.iloc[idx]['DATABASE-NAME'] == \"DOID\":\n",
    "        target = df_main.iloc[idx]['EXTERNAL-ID']\n",
    "        target = df_DOID[df_DOID['DOID-ID'].isin([target])]['NAME']\n",
    "        if len(target) > 0:\n",
    "            df_main.iloc[idx]['EXTERNAL-NAME'] = (target.iloc[0])"
   ]
  },
  {
   "cell_type": "code",
   "execution_count": 8,
   "metadata": {},
   "outputs": [],
   "source": [
    "df_main.to_csv(r'hpo_xref_data.txt', index=None, sep='\\t')"
   ]
  },
  {
   "cell_type": "code",
   "execution_count": null,
   "metadata": {},
   "outputs": [],
   "source": []
  }
 ],
 "metadata": {
  "kernelspec": {
   "display_name": "Python 3",
   "language": "python",
   "name": "python3"
  },
  "language_info": {
   "codemirror_mode": {
    "name": "ipython",
    "version": 3
   },
   "file_extension": ".py",
   "mimetype": "text/x-python",
   "name": "python",
   "nbconvert_exporter": "python",
   "pygments_lexer": "ipython3",
   "version": "3.7.4"
  }
 },
 "nbformat": 4,
 "nbformat_minor": 2
}
