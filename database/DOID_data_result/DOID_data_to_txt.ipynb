{
 "cells": [
  {
   "cell_type": "code",
   "execution_count": 1,
   "metadata": {},
   "outputs": [],
   "source": [
    "import io"
   ]
  },
  {
   "cell_type": "code",
   "execution_count": 3,
   "metadata": {},
   "outputs": [],
   "source": [
    "with open('DOID-DATA.txt', 'w+') as txtfile:\n",
    "    with io.open('doid.owl.txt', 'r',encoding='utf-8') as filein:\n",
    "        # use flag to lable whether we have met <QualifierUI> or not\n",
    "        flag = False\n",
    "        for line in filein:\n",
    "            line = line.strip()\n",
    "            if '<oboInOwl:id>DOID:' in line:\n",
    "                flag = True\n",
    "                idx = line.find('>')+6\n",
    "                targetId = line[idx:idx+7]\n",
    "            if flag and '<rdfs:label xml:lang=\"en\">' in line:\n",
    "                line = line[26:]\n",
    "                idx = line.find('<')\n",
    "                targetStr = line[:idx]\n",
    "                flag = False\n",
    "                txtfile.write(targetId + '\\t' + targetStr)\n",
    "                txtfile.write('\\n')"
   ]
  },
  {
   "cell_type": "code",
   "execution_count": null,
   "metadata": {},
   "outputs": [],
   "source": []
  }
 ],
 "metadata": {
  "kernelspec": {
   "display_name": "Python 3",
   "language": "python",
   "name": "python3"
  },
  "language_info": {
   "codemirror_mode": {
    "name": "ipython",
    "version": 3
   },
   "file_extension": ".py",
   "mimetype": "text/x-python",
   "name": "python",
   "nbconvert_exporter": "python",
   "pygments_lexer": "ipython3",
   "version": "3.7.4"
  }
 },
 "nbformat": 4,
 "nbformat_minor": 2
}
