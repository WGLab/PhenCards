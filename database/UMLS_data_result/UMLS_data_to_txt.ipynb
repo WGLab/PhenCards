{
 "cells": [
  {
   "cell_type": "code",
   "execution_count": 10,
   "metadata": {},
   "outputs": [],
   "source": [
    "import csv\n",
    "import io"
   ]
  },
  {
   "cell_type": "code",
   "execution_count": 27,
   "metadata": {},
   "outputs": [],
   "source": [
    "with open('UMLS-DATA.txt', 'w+') as txtfile:\n",
    "    with io.open('MRCONSO.RRF', 'r',encoding='utf-8') as filein:\n",
    "        for line in filein:\n",
    "            lst = line.split('|')\n",
    "            for i in range(18):\n",
    "                tmp = str(lst[i].strip().encode(\"utf-8\"))[2:-1]\n",
    "                if tmp == '':\n",
    "                    tmp = 'None'\n",
    "                txtfile.write(tmp)\n",
    "                if i != 17:\n",
    "                    txtfile.write('\\t')\n",
    "            txtfile.write('\\n')"
   ]
  }
 ],
 "metadata": {
  "kernelspec": {
   "display_name": "Python 3",
   "language": "python",
   "name": "python3"
  },
  "language_info": {
   "codemirror_mode": {
    "name": "ipython",
    "version": 3
   },
   "file_extension": ".py",
   "mimetype": "text/x-python",
   "name": "python",
   "nbconvert_exporter": "python",
   "pygments_lexer": "ipython3",
   "version": "3.7.4"
  }
 },
 "nbformat": 4,
 "nbformat_minor": 2
}
